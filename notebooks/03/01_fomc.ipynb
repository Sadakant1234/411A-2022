{
  "cells": [
    {
      "cell_type": "markdown",
      "metadata": {
        "colab_type": "text",
        "id": "view-in-github"
      },
      "source": [
        "<a href=\"https://colab.research.google.com/github/chu-ise/411A-2022/blob/main/notebooks/03/01_fomc.ipynb\" target=\"_parent\"><img src=\"https://colab.research.google.com/assets/colab-badge.svg\" alt=\"Open In Colab\"/></a>"
      ]
    },
    {
      "cell_type": "markdown",
      "metadata": {
        "id": "DjhDsneUPblF"
      },
      "source": [
        "Environment setup to persist data in Google Drive"
      ]
    },
    {
      "cell_type": "code",
      "execution_count": 1,
      "metadata": {
        "colab": {
          "base_uri": "https://localhost:8080/"
        },
        "id": "GDY8BtSle0Go",
        "outputId": "c88edb83-8783-4821-fd2e-8749752ea639"
      },
      "outputs": [
        {
          "name": "stdout",
          "output_type": "stream",
          "text": [
            "Mounted at /content/drive\n",
            "WORKSPACE_DIR = /content/workspace\n"
          ]
        }
      ],
      "source": [
        "import os, sys\n",
        "IN_COLAB = 'google.colab' in sys.modules\n",
        "if IN_COLAB:\n",
        "    from google.colab import drive\n",
        "    if not os.path.exists('/content/drive'):\n",
        "      drive.mount(\"/content/drive\")\n",
        "      !ln -s \"/content/drive/My Drive/colab_workspace\" workspace\n",
        "    WORKSPACE_DIR = \"/content/workspace\"\n",
        "else:\n",
        "    WORKSPACE_DIR = \"../../workspace\" \n",
        "print(f'WORKSPACE_DIR = {WORKSPACE_DIR}')\n",
        "data_dir = os.path.join(WORKSPACE_DIR, \"data\")\n",
        "os.makedirs(data_dir, exist_ok=True)"
      ]
    },
    {
      "cell_type": "code",
      "execution_count": 3,
      "metadata": {
        "colab": {
          "base_uri": "https://localhost:8080/"
        },
        "id": "RyfNoU8_qAu3",
        "outputId": "1cbfda11-560e-4bb9-b65f-92c8b16c6ae9"
      },
      "outputs": [
        {
          "name": "stderr",
          "output_type": "stream",
          "text": [
            "Downloading...\n",
            "From: https://drive.google.com/uc?id=149qKjPXsYUlKftKfsgZto7xVxRObYFPX\n",
            "To: /content/conf.zip\n",
            "100%|██████████| 1.69k/1.69k [00:00<00:00, 1.43MB/s]"
          ]
        },
        {
          "name": "stdout",
          "output_type": "stream",
          "text": [
            "Archive:  conf.zip\n",
            "   creating: conf/\n",
            "  inflating: conf/config.yaml        \n",
            "   creating: conf/downloader/\n",
            "  inflating: conf/downloader/_default.yaml  \n",
            "  inflating: conf/downloader/enwiki.yaml  \n",
            "  inflating: conf/downloader/minutes.yaml  \n"
          ]
        },
        {
          "name": "stderr",
          "output_type": "stream",
          "text": [
            "\n"
          ]
        }
      ],
      "source": [
        "import gdown, os\n",
        "id = \"149qKjPXsYUlKftKfsgZto7xVxRObYFPX\"\n",
        "\n",
        "data_file = \"conf.zip\"\n",
        "conf_dir = data_file.split(\".\")[0]\n",
        "if not os.path.exists(conf_dir):\n",
        "    gdown.download(id=id, output=data_file, quiet=False)\n",
        "    !unzip $data_file\n",
        "    os.remove(data_file)\n",
        "else:\n",
        "    print(f\"{conf_dir} already exists\")"
      ]
    },
    {
      "cell_type": "code",
      "execution_count": 4,
      "metadata": {
        "id": "a-U1PibEPblK"
      },
      "outputs": [],
      "source": [
        "%%capture\n",
        "%pip install ekorpkit[dataset]==0.1.12.post0.dev6\n",
        "%pip install ekorpkit[fomc]==0.1.12.post0.dev6"
      ]
    },
    {
      "cell_type": "markdown",
      "metadata": {
        "id": "BdnTDvCtPblL"
      },
      "source": [
        "### Download FOMC Minutes and Build a Dataset"
      ]
    },
    {
      "cell_type": "code",
      "execution_count": 5,
      "metadata": {
        "id": "zBxY0vcbPblL"
      },
      "outputs": [],
      "source": [
        "from ekorpkit.io.fetch.fomc import Minutes"
      ]
    },
    {
      "cell_type": "code",
      "execution_count": 6,
      "metadata": {
        "id": "UUgwRiT0qAu5"
      },
      "outputs": [],
      "source": [
        "import os\n",
        "from hydra import initialize, compose"
      ]
    },
    {
      "cell_type": "code",
      "execution_count": 7,
      "metadata": {
        "colab": {
          "base_uri": "https://localhost:8080/"
        },
        "id": "dcKS3gYiqAu6",
        "outputId": "9dc71a6b-5ae1-4619-d789-9fbdd1d8ed27"
      },
      "outputs": [
        {
          "name": "stdout",
          "output_type": "stream",
          "text": [
            "{'downloader': {'name': 'beigebook', 'output_dir': '${..data_dir}/${.name}', 'output_file': None, 'autoload': False, 'force_download': False, 'num_workers': 1, 'compress': False, 'verbose': True, '_target_': 'ekorpkit.io.fetch.fomc.minutes', 'from_year': 2000, 'content_type': 'fomc_minutes', 'base_url': 'https://www.federalreserve.gov', 'calendar_url': '${.base_url}/monetarypolicy/fomccalendars.htm', 'segment_separator': '\\\\n\\\\n', 'chair': {'columns': ['Surname', 'FirstName', 'FromDate', 'ToDate'], 'data': [['Greenspan', 'Alan', '1987-08-11', '2006-01-31'], ['Bernanke', 'Ben', '2006-02-01', '2014-01-31'], ['Yellen', 'Janet', '2014-02-03', '2018-02-03'], ['Powell', 'Jerome', '2018-02-05', '2022-02-05']]}}, 'data_dir': '/content/workspace/data'}\n"
          ]
        }
      ],
      "source": [
        "with initialize(config_path=\"conf\"):\n",
        "    cfg=compose(\n",
        "        overrides=[\n",
        "            \"+downloader=minutes\",\n",
        "            f\"+data_dir={data_dir}\",\n",
        "        ]\n",
        "    )\n",
        "    print(cfg)"
      ]
    },
    {
      "cell_type": "code",
      "execution_count": 8,
      "metadata": {
        "colab": {
          "base_uri": "https://localhost:8080/"
        },
        "id": "tm-ckatyqAu7",
        "outputId": "04b42bba-3799-46b1-9a6e-d69f5fe0beed"
      },
      "outputs": [
        {
          "name": "stdout",
          "output_type": "stream",
          "text": [
            "fomc_minutes\n"
          ]
        }
      ],
      "source": [
        "fomc = Minutes(**cfg.downloader)"
      ]
    },
    {
      "cell_type": "code",
      "execution_count": 9,
      "metadata": {
        "colab": {
          "base_uri": "https://localhost:8080/"
        },
        "id": "f260d8TEqAu7",
        "outputId": "b631e66a-f478-40cd-8cb3-7854aeed45dc"
      },
      "outputs": [
        {
          "name": "stdout",
          "output_type": "stream",
          "text": [
            "Downloading fomc_minutes\n",
            "Getting links for minutes...\n",
            "41 links found in the current page.\n",
            "Getting links from archive pages...\n",
            "YEAR: 2000 - 8 links found.\n",
            "YEAR: 2001 - 13 links found.\n",
            "YEAR: 2002 - 8 links found.\n",
            "YEAR: 2003 - 8 links found.\n",
            "YEAR: 2004 - 8 links found.\n",
            "YEAR: 2005 - 8 links found.\n",
            "YEAR: 2006 - 8 links found.\n",
            "YEAR: 2007 - 10 links found.\n",
            "YEAR: 2008 - 7 links found.\n",
            "YEAR: 2009 - 8 links found.\n",
            "YEAR: 2010 - 8 links found.\n",
            "YEAR: 2011 - 8 links found.\n",
            "YEAR: 2012 - 8 links found.\n",
            "YEAR: 2013 - 8 links found.\n",
            "YEAR: 2014 - 8 links found.\n",
            "There are total  167  links for  fomc_minutes\n",
            "Getting articles - Multi-threaded...\n",
            ".......................................................................................................................................................................Shape of the downloaded data:  (167, 5)\n",
            "The first 5 rows of the data: \n",
            "         date         speaker                 title  \\\n",
            "0 2000-02-02  Alan Greenspan  FOMC Meeting Minutes   \n",
            "1 2000-03-21  Alan Greenspan  FOMC Meeting Minutes   \n",
            "2 2000-05-16  Alan Greenspan  FOMC Meeting Minutes   \n",
            "3 2000-06-28  Alan Greenspan  FOMC Meeting Minutes   \n",
            "4 2000-08-22  Alan Greenspan  FOMC Meeting Minutes   \n",
            "\n",
            "                                                text  content_type  \n",
            "0  A meeting of the Federal Open Market Committee...  fomc_minutes  \n",
            "1  A meeting of the Federal Open Market Committee...  fomc_minutes  \n",
            "2  A meeting of the Federal Open Market Committee...  fomc_minutes  \n",
            "3  A meeting of the Federal Open Market Committee...  fomc_minutes  \n",
            "4  A meeting of the Federal Open Market Committee...  fomc_minutes  \n",
            "The last 5 rows of the data: \n",
            "           date        speaker                 title  \\\n",
            "162 2021-07-28  Jerome Powell  FOMC Meeting Minutes   \n",
            "163 2021-09-22  Jerome Powell  FOMC Meeting Minutes   \n",
            "164 2021-11-03  Jerome Powell  FOMC Meeting Minutes   \n",
            "165 2021-12-15  Jerome Powell  FOMC Meeting Minutes   \n",
            "166 2022-01-26          other  FOMC Meeting Minutes   \n",
            "\n",
            "                                                  text  content_type  \n",
            "162  The Federal Reserve, the central bank of the U...  fomc_minutes  \n",
            "163  The Federal Reserve, the central bank of the U...  fomc_minutes  \n",
            "164  The Federal Reserve, the central bank of the U...  fomc_minutes  \n",
            "165  The Federal Reserve, the central bank of the U...  fomc_minutes  \n",
            "166  The Federal Reserve, the central bank of the U...  fomc_minutes  \n",
            "Writing to  /content/workspace/data/beigebook/fomc_minutes.csv\n"
          ]
        }
      ],
      "source": [
        "print(f\"Downloading {fomc.content_type}\")\n",
        "df = fomc.get_contents(cfg.downloader.from_year)\n",
        "print(\"Shape of the downloaded data: \", df.shape)\n",
        "print(\"The first 5 rows of the data: \\n\", df.head())\n",
        "print(\"The last 5 rows of the data: \\n\", df.tail())\n",
        "fomc.save()"
      ]
    },
    {
      "cell_type": "code",
      "execution_count": 10,
      "metadata": {
        "id": "6qUdlwuVqAu8"
      },
      "outputs": [],
      "source": [
        "Minutes??"
      ]
    },
    {
      "cell_type": "code",
      "execution_count": 11,
      "metadata": {
        "colab": {
          "base_uri": "https://localhost:8080/"
        },
        "id": "G5VUw92gqAu8",
        "outputId": "45387eb5-9b6c-4a7d-aa94-75220f659000"
      },
      "outputs": [
        {
          "name": "stdout",
          "output_type": "stream",
          "text": [
            "/content/workspace/data/beigebook/fomc_minutes.csv\n"
          ]
        }
      ],
      "source": [
        "data_file =  cfg.downloader.output_dir + \"/fomc_minutes.csv\"\n",
        "print(data_file)\n"
      ]
    },
    {
      "cell_type": "code",
      "execution_count": 12,
      "metadata": {
        "colab": {
          "base_uri": "https://localhost:8080/",
          "height": 206
        },
        "id": "mzjZmIcrPblM",
        "outputId": "676c1ce5-4696-46e8-a8b2-23da3a56ec3b"
      },
      "outputs": [
        {
          "data": {
            "text/html": [
              "\n",
              "  <div id=\"df-0b038f92-8821-4498-8d77-9583c28f236f\">\n",
              "    <div class=\"colab-df-container\">\n",
              "      <div>\n",
              "<style scoped>\n",
              "    .dataframe tbody tr th:only-of-type {\n",
              "        vertical-align: middle;\n",
              "    }\n",
              "\n",
              "    .dataframe tbody tr th {\n",
              "        vertical-align: top;\n",
              "    }\n",
              "\n",
              "    .dataframe thead th {\n",
              "        text-align: right;\n",
              "    }\n",
              "</style>\n",
              "<table border=\"1\" class=\"dataframe\">\n",
              "  <thead>\n",
              "    <tr style=\"text-align: right;\">\n",
              "      <th></th>\n",
              "      <th>date</th>\n",
              "      <th>speaker</th>\n",
              "      <th>title</th>\n",
              "      <th>text</th>\n",
              "      <th>content_type</th>\n",
              "    </tr>\n",
              "  </thead>\n",
              "  <tbody>\n",
              "    <tr>\n",
              "      <th>0</th>\n",
              "      <td>2000-02-02</td>\n",
              "      <td>Alan Greenspan</td>\n",
              "      <td>FOMC Meeting Minutes</td>\n",
              "      <td>A meeting of the Federal Open Market Committee...</td>\n",
              "      <td>fomc_minutes</td>\n",
              "    </tr>\n",
              "    <tr>\n",
              "      <th>1</th>\n",
              "      <td>2000-03-21</td>\n",
              "      <td>Alan Greenspan</td>\n",
              "      <td>FOMC Meeting Minutes</td>\n",
              "      <td>A meeting of the Federal Open Market Committee...</td>\n",
              "      <td>fomc_minutes</td>\n",
              "    </tr>\n",
              "    <tr>\n",
              "      <th>2</th>\n",
              "      <td>2000-05-16</td>\n",
              "      <td>Alan Greenspan</td>\n",
              "      <td>FOMC Meeting Minutes</td>\n",
              "      <td>A meeting of the Federal Open Market Committee...</td>\n",
              "      <td>fomc_minutes</td>\n",
              "    </tr>\n",
              "    <tr>\n",
              "      <th>3</th>\n",
              "      <td>2000-06-28</td>\n",
              "      <td>Alan Greenspan</td>\n",
              "      <td>FOMC Meeting Minutes</td>\n",
              "      <td>A meeting of the Federal Open Market Committee...</td>\n",
              "      <td>fomc_minutes</td>\n",
              "    </tr>\n",
              "    <tr>\n",
              "      <th>4</th>\n",
              "      <td>2000-08-22</td>\n",
              "      <td>Alan Greenspan</td>\n",
              "      <td>FOMC Meeting Minutes</td>\n",
              "      <td>A meeting of the Federal Open Market Committee...</td>\n",
              "      <td>fomc_minutes</td>\n",
              "    </tr>\n",
              "  </tbody>\n",
              "</table>\n",
              "</div>\n",
              "      <button class=\"colab-df-convert\" onclick=\"convertToInteractive('df-0b038f92-8821-4498-8d77-9583c28f236f')\"\n",
              "              title=\"Convert this dataframe to an interactive table.\"\n",
              "              style=\"display:none;\">\n",
              "        \n",
              "  <svg xmlns=\"http://www.w3.org/2000/svg\" height=\"24px\"viewBox=\"0 0 24 24\"\n",
              "       width=\"24px\">\n",
              "    <path d=\"M0 0h24v24H0V0z\" fill=\"none\"/>\n",
              "    <path d=\"M18.56 5.44l.94 2.06.94-2.06 2.06-.94-2.06-.94-.94-2.06-.94 2.06-2.06.94zm-11 1L8.5 8.5l.94-2.06 2.06-.94-2.06-.94L8.5 2.5l-.94 2.06-2.06.94zm10 10l.94 2.06.94-2.06 2.06-.94-2.06-.94-.94-2.06-.94 2.06-2.06.94z\"/><path d=\"M17.41 7.96l-1.37-1.37c-.4-.4-.92-.59-1.43-.59-.52 0-1.04.2-1.43.59L10.3 9.45l-7.72 7.72c-.78.78-.78 2.05 0 2.83L4 21.41c.39.39.9.59 1.41.59.51 0 1.02-.2 1.41-.59l7.78-7.78 2.81-2.81c.8-.78.8-2.07 0-2.86zM5.41 20L4 18.59l7.72-7.72 1.47 1.35L5.41 20z\"/>\n",
              "  </svg>\n",
              "      </button>\n",
              "      \n",
              "  <style>\n",
              "    .colab-df-container {\n",
              "      display:flex;\n",
              "      flex-wrap:wrap;\n",
              "      gap: 12px;\n",
              "    }\n",
              "\n",
              "    .colab-df-convert {\n",
              "      background-color: #E8F0FE;\n",
              "      border: none;\n",
              "      border-radius: 50%;\n",
              "      cursor: pointer;\n",
              "      display: none;\n",
              "      fill: #1967D2;\n",
              "      height: 32px;\n",
              "      padding: 0 0 0 0;\n",
              "      width: 32px;\n",
              "    }\n",
              "\n",
              "    .colab-df-convert:hover {\n",
              "      background-color: #E2EBFA;\n",
              "      box-shadow: 0px 1px 2px rgba(60, 64, 67, 0.3), 0px 1px 3px 1px rgba(60, 64, 67, 0.15);\n",
              "      fill: #174EA6;\n",
              "    }\n",
              "\n",
              "    [theme=dark] .colab-df-convert {\n",
              "      background-color: #3B4455;\n",
              "      fill: #D2E3FC;\n",
              "    }\n",
              "\n",
              "    [theme=dark] .colab-df-convert:hover {\n",
              "      background-color: #434B5C;\n",
              "      box-shadow: 0px 1px 3px 1px rgba(0, 0, 0, 0.15);\n",
              "      filter: drop-shadow(0px 1px 2px rgba(0, 0, 0, 0.3));\n",
              "      fill: #FFFFFF;\n",
              "    }\n",
              "  </style>\n",
              "\n",
              "      <script>\n",
              "        const buttonEl =\n",
              "          document.querySelector('#df-0b038f92-8821-4498-8d77-9583c28f236f button.colab-df-convert');\n",
              "        buttonEl.style.display =\n",
              "          google.colab.kernel.accessAllowed ? 'block' : 'none';\n",
              "\n",
              "        async function convertToInteractive(key) {\n",
              "          const element = document.querySelector('#df-0b038f92-8821-4498-8d77-9583c28f236f');\n",
              "          const dataTable =\n",
              "            await google.colab.kernel.invokeFunction('convertToInteractive',\n",
              "                                                     [key], {});\n",
              "          if (!dataTable) return;\n",
              "\n",
              "          const docLinkHtml = 'Like what you see? Visit the ' +\n",
              "            '<a target=\"_blank\" href=https://colab.research.google.com/notebooks/data_table.ipynb>data table notebook</a>'\n",
              "            + ' to learn more about interactive tables.';\n",
              "          element.innerHTML = '';\n",
              "          dataTable['output_type'] = 'display_data';\n",
              "          await google.colab.output.renderOutput(dataTable, element);\n",
              "          const docLink = document.createElement('div');\n",
              "          docLink.innerHTML = docLinkHtml;\n",
              "          element.appendChild(docLink);\n",
              "        }\n",
              "      </script>\n",
              "    </div>\n",
              "  </div>\n",
              "  "
            ],
            "text/plain": [
              "         date         speaker                 title  \\\n",
              "0  2000-02-02  Alan Greenspan  FOMC Meeting Minutes   \n",
              "1  2000-03-21  Alan Greenspan  FOMC Meeting Minutes   \n",
              "2  2000-05-16  Alan Greenspan  FOMC Meeting Minutes   \n",
              "3  2000-06-28  Alan Greenspan  FOMC Meeting Minutes   \n",
              "4  2000-08-22  Alan Greenspan  FOMC Meeting Minutes   \n",
              "\n",
              "                                                text  content_type  \n",
              "0  A meeting of the Federal Open Market Committee...  fomc_minutes  \n",
              "1  A meeting of the Federal Open Market Committee...  fomc_minutes  \n",
              "2  A meeting of the Federal Open Market Committee...  fomc_minutes  \n",
              "3  A meeting of the Federal Open Market Committee...  fomc_minutes  \n",
              "4  A meeting of the Federal Open Market Committee...  fomc_minutes  "
            ]
          },
          "execution_count": 12,
          "metadata": {},
          "output_type": "execute_result"
        }
      ],
      "source": [
        "import pandas as pd\n",
        "df = pd.read_csv(data_file)\n",
        "df.head()"
      ]
    },
    {
      "cell_type": "code",
      "execution_count": 13,
      "metadata": {
        "colab": {
          "base_uri": "https://localhost:8080/"
        },
        "id": "E7VfqZ01PblN",
        "outputId": "e6bec691-d7e3-4998-f529-ae26542872dc"
      },
      "outputs": [
        {
          "name": "stdout",
          "output_type": "stream",
          "text": [
            "<class 'pandas.core.frame.DataFrame'>\n",
            "RangeIndex: 167 entries, 0 to 166\n",
            "Data columns (total 5 columns):\n",
            " #   Column        Non-Null Count  Dtype \n",
            "---  ------        --------------  ----- \n",
            " 0   date          167 non-null    object\n",
            " 1   speaker       167 non-null    object\n",
            " 2   title         167 non-null    object\n",
            " 3   text          167 non-null    object\n",
            " 4   content_type  167 non-null    object\n",
            "dtypes: object(5)\n",
            "memory usage: 6.6+ KB\n"
          ]
        }
      ],
      "source": [
        "df.info() # check for missing values"
      ]
    },
    {
      "cell_type": "code",
      "execution_count": 14,
      "metadata": {
        "colab": {
          "base_uri": "https://localhost:8080/"
        },
        "id": "aGiL1zcnPblR",
        "outputId": "4930e91d-12d0-4dd1-a8fd-20e3cc7ee727"
      },
      "outputs": [
        {
          "data": {
            "text/plain": [
              "0     2000-02-02\n",
              "1     2000-03-21\n",
              "2     2000-05-16\n",
              "3     2000-06-28\n",
              "4     2000-08-22\n",
              "         ...    \n",
              "162   2021-07-28\n",
              "163   2021-09-22\n",
              "164   2021-11-03\n",
              "165   2021-12-15\n",
              "166   2022-01-26\n",
              "Name: date, Length: 167, dtype: datetime64[ns]"
            ]
          },
          "execution_count": 14,
          "metadata": {},
          "output_type": "execute_result"
        }
      ],
      "source": [
        "df['date'] = pd.to_datetime(df['date'])\n",
        "df['date']"
      ]
    },
    {
      "cell_type": "code",
      "execution_count": 15,
      "metadata": {
        "colab": {
          "base_uri": "https://localhost:8080/"
        },
        "id": "4Mt7w52LoC3f",
        "outputId": "9514df0c-6c84-4784-cae6-977c8e9a6ae7"
      },
      "outputs": [
        {
          "data": {
            "text/plain": [
              "2001    12\n",
              "2007    10\n",
              "2000     9\n",
              "2012     8\n",
              "2021     8\n",
              "2020     8\n",
              "2019     8\n",
              "2018     8\n",
              "2017     8\n",
              "2014     8\n",
              "2013     8\n",
              "2010     8\n",
              "2011     8\n",
              "2009     8\n",
              "2006     8\n",
              "2005     8\n",
              "2004     8\n",
              "2003     8\n",
              "2002     8\n",
              "2008     7\n",
              "2022     1\n",
              "Name: year, dtype: int64"
            ]
          },
          "execution_count": 15,
          "metadata": {},
          "output_type": "execute_result"
        }
      ],
      "source": [
        "df['year'] = df['date'].dt.year\n",
        "df['year'].value_counts()"
      ]
    },
    {
      "cell_type": "markdown",
      "metadata": {
        "id": "XgKSOJaToC3f"
      },
      "source": [
        "## RegEx\n",
        "\n",
        "Please refer to [RegExOne Regular Expressions Lessons](http://regexone.com) and [the python documentation](https://docs.python.org/3/howto/regex.html)."
      ]
    },
    {
      "cell_type": "code",
      "execution_count": 16,
      "metadata": {
        "colab": {
          "base_uri": "https://localhost:8080/"
        },
        "id": "DFrpgeTRoC3f",
        "outputId": "b7798b8c-e34b-458f-e6cf-c5d5b4b13254"
      },
      "outputs": [
        {
          "name": "stdout",
          "output_type": "stream",
          "text": [
            "['Federal Reserve System ', 'Federal Reserve Banks ', 'Federal Reserve Banks ', 'Federal Reserve Bank ', 'Federal Reserve Bank ', 'Federal Reserve Bank ', 'Federal Reserve Bank ', 'Federal Reserve Bank ', 'Federal Reserve Bank ', 'Federal Reserve Bank ', 'Federal Reserve Bank ', 'Federal Reserve Bank ', 'Federal Reserve Bank ', 'Federal Reserve Bank ', 'Federal Reserve Bank ', 'Federal Reserve Bank ', 'Federal Reserve Bank ', 'Federal Reserve Bank ', 'Federal Reserve Bank ', 'Federal Reserve Bank ', 'Federal Reserve Bank ', 'Federal Reserve Bank ', 'Federal Reserve Bank ', 'Federal Reserve Bank ', 'Federal Reserve Bank ', 'Federal Reserve Bank ', 'Federal Reserve Bank ', 'Federal Reserve Bank ', 'Federal Reserve Bank ', 'Federal Reserve Bank ', 'Federal Reserve System ', 'Federal Reserve Bank ', 'Federal Reserve Bank ', 'Federal Reserve Banks ', 'Federal Reserve Banks ', 'Federal Reserve participation ', 'Federal Reserve Bank ', 'Federal Reserve Bank ', 'Federal Reserve districts ', 'Federal Reserve is ', 'Federal Reserve Bank ', 'Federal Reserve Bank ', 'Federal Reserve Bank ', 'Federal Reserve System ']\n",
            "['Federal Reserve System ', 'Federal Reserve Banks ', 'Federal Reserve Banks ', 'Federal Reserve Bank ', 'Federal Reserve Bank ', 'Federal Reserve Bank ', 'Federal Reserve Bank ', 'Federal Reserve Bank ']\n",
            "['Federal Reserve System ', 'Federal Reserve Banks ', 'Federal Reserve Banks ', 'Federal Reserve Banks ', 'Federal Reserve Banks ', 'Federal Reserve would ', 'Federal Reserve Bank ']\n",
            "['Federal Reserve System ', 'Federal Reserve Banks ', 'Federal Reserve Banks ', 'Federal Reserve Banks ', 'Federal Reserve Banks ', 'Federal Reserve Banks ', 'Federal Reserve Banks ', 'Federal Reserve Bank ', 'Federal Reserve System ']\n",
            "['Federal Reserve System ', 'Federal Reserve Banks ', 'Federal Reserve Bank ', 'Federal Reserve Banks ', 'Federal Reserve Bank ', 'Federal Reserve Bank ', 'Federal Reserve Bank ']\n"
          ]
        }
      ],
      "source": [
        "import re\n",
        "\n",
        "docs = df[:5]['text']\n",
        "\n",
        "# Extract words after Federal Reserve.\n",
        "for doc in docs:    \n",
        "    print(re.findall(r'Federal Reserve \\w+ ', # pattern to match. always put 'r' in front of string so that backslashes are treated literally.\n",
        "                     doc,            # string\n",
        "                     re.IGNORECASE))  # ignore upper/lowercase (optional)"
      ]
    },
    {
      "cell_type": "code",
      "execution_count": 17,
      "metadata": {
        "colab": {
          "base_uri": "https://localhost:8080/"
        },
        "id": "uc3TlEjroC3f",
        "outputId": "2ee02f1b-8982-4f03-cef0-c3837fe238ad"
      },
      "outputs": [
        {
          "name": "stdout",
          "output_type": "stream",
          "text": [
            "['century-data', 'short-term', 'long-run', 'non-market', 'short-term', 'year-end', 'long-term', 'year-end', 'two-month', 'first-half', 'high-tech', 'year-end', 'inventory-sales', 'October-November', 'third-quarter', 'century-date', 'year-end', 'century-date', 'trade-weighted', 'century-date', 'non-M', 'expenditures-encompassed', 'broad-based', 'high-tech', 'short-lived', 'high-tech', 'fixed-rate', 'long-term', 'lower-cost', 'near-term', 'longer-run', 'inflation-indexed', 'long-run', 'Humphrey-Hawkins', 'long-run', 'longer-run', 'long-term', 'long-run', 'long-run']\n",
            "['tri-party', 'broad-gauge', 'longer-term', 'sale-purchase', 'tri-party', 'sale-purchase', 'high-tech', 'January-February', 'long-term', 'January-February', 'single-family', 'single-family', 'non-aircraft', 'inventory-sales', 'stock-shipments', 'inventory-sales', 'twelve-month', 'twelve-month', 'January-February', 'twelve-month', 'longer-term', 'trade-weighted', 'technology-related', 'year-end', 'first-quarter', 'high-tech', 'high-tech', 'high-tech', 'long-run', 'long-run']\n",
            "['mid-December', 'long-run', 'off-the', 'step-up', 'thirty-year', 'high-tech', 'long-term', 'single-family', 'non-aircraft', 'inventory-sales', 'inventory-sales', 'January-February', 'fourth-quarter', 'emerging-market', 'step-ups', 'year-earlier', 'twelve-month', 'March-April', 'year-earlier', 'twelve-month', 'trade-weighted', 'long-term', 'higher-than', 'clear-cut', 'near-term', 'oil-related', 'long-run', 'meeting-by', 'long-run', 'long-run', 'Tuesday-Wednesday']\n",
            "['first-quarter', 'April-May', 'high-tech', 'non-automotive', 'step-up', 'long-term', 'single-family', 'first-quarter', 'inventory-sales', 'emerging-market', 'twelve-month', 'twelve-month', 'twelve-month', 'longer-term', 'investment-grade', 'trade-weighted', 'longer-term', 'run-up', 'high-tech', 'long-run', 'balance-of', 'long-run', 'long-run', 'long-run']\n",
            "['cooler-than', 'high-tech', 'step-up', 'long-term', 'single-family', 'first-quarter', 'high-tech', 'first-quarter', 'inventory-sales', 'inventory-sales', 'twelve-month', 'chain-price', 'June-July', 'twelve-month', 'four-quarter', 'twelve-month', 'trade-weighted', 'interest-sensitive', 'long-term', 'long-term', 'housing-related', 'chain-price', 'longer-run', 'longer-term', 'balance-of', 'longer-run', 'long-term', 'long-run', 'long-run']\n"
          ]
        }
      ],
      "source": [
        "# Extract hyphenated words\n",
        "for doc in docs:    \n",
        "    print(re.findall(r'[a-z]+-[a-z]+', \n",
        "                     doc,            \n",
        "                     re.IGNORECASE))  "
      ]
    },
    {
      "cell_type": "code",
      "execution_count": 18,
      "metadata": {
        "id": "WaTyileNoC3g"
      },
      "outputs": [],
      "source": [
        "# baker-bloom economic uncertainty\n",
        "pattern1 = r'(\\b)uncertain[a-z]*'\n",
        "pattern2 = r'(\\b)econom[a-z]*'\n",
        "pattern3 = r'(\\b)congress(\\b)|(\\b)deficit(\\b)|(\\b)federal reserve(\\b)|(\\b)legislation(\\b)|(\\b)regulation(\\b)|(\\b)white house(\\b)'"
      ]
    },
    {
      "cell_type": "code",
      "execution_count": 19,
      "metadata": {
        "colab": {
          "base_uri": "https://localhost:8080/"
        },
        "id": "Oe4JZlGNoC3g",
        "outputId": "7051ada8-cc6a-439c-84da-7665ad586efe"
      },
      "outputs": [
        {
          "name": "stdout",
          "output_type": "stream",
          "text": [
            "pattern = (\\b)uncertain[a-z]*\n",
            "0 (38230, 38239) uncertain\n",
            "0 (43306, 43317) uncertainty\n",
            "0 (45013, 45026) uncertainties\n",
            "0 (45654, 45667) uncertainties\n",
            "0 (47489, 47500) uncertainty\n",
            "0 (49014, 49027) uncertainties\n",
            "1 (20002, 20013) uncertainty\n",
            "1 (25941, 25954) uncertainties\n",
            "3 (13841, 13852) uncertainty\n",
            "3 (18093, 18102) uncertain\n",
            "3 (22952, 22965) uncertainties\n",
            "3 (24025, 24038) uncertainties\n",
            "4 (16115, 16126) uncertainty\n",
            "4 (23320, 23331) uncertainty\n",
            "pattern = (\\b)econom[a-z]*\n",
            "0 (512, 521) Economist\n",
            "0 (692, 701) Economist\n",
            "0 (713, 722) Economist\n",
            "0 (850, 860) Economists\n",
            "0 (1485, 1495) Economists\n",
            "0 (1649, 1659) Economists\n",
            "0 (3773, 3782) Economist\n",
            "0 (3992, 4001) Economist\n",
            "0 (4019, 4028) Economist\n",
            "0 (4232, 4242) Economists\n",
            "0 (10644, 10652) economic\n",
            "0 (10683, 10691) economic\n",
            "0 (24451, 24459) economic\n",
            "0 (24671, 24679) economic\n",
            "0 (28964, 28972) economic\n",
            "0 (29054, 29062) economic\n",
            "0 (29171, 29179) Economic\n",
            "0 (29312, 29320) Economic\n",
            "0 (31787, 31795) economic\n",
            "0 (33503, 33510) economy\n",
            "0 (34047, 34055) economic\n",
            "0 (34465, 34473) economic\n",
            "0 (34515, 34522) economy\n",
            "0 (34692, 34700) economic\n",
            "0 (34750, 34757) economy\n",
            "0 (34788, 34795) economy\n",
            "0 (35037, 35044) economy\n",
            "0 (35104, 35112) economic\n",
            "0 (35187, 35194) economy\n",
            "0 (36299, 36306) economy\n",
            "0 (37272, 37279) economy\n",
            "0 (37292, 37300) economic\n",
            "0 (40556, 40565) economies\n",
            "0 (42297, 42304) economy\n",
            "0 (43380, 43388) economic\n",
            "0 (43429, 43436) economy\n",
            "0 (44599, 44607) economic\n",
            "0 (45498, 45506) economic\n",
            "0 (46641, 46648) economy\n",
            "0 (48440, 48447) economy\n",
            "0 (49129, 49136) economy\n",
            "0 (50927, 50935) economic\n",
            "0 (51976, 51984) economic\n",
            "0 (52374, 52382) economic\n",
            "0 (54008, 54016) economic\n",
            "1 (461, 470) Economist\n",
            "1 (606, 615) Economist\n",
            "1 (627, 636) Economist\n",
            "1 (742, 752) Economists\n",
            "1 (8478, 8486) economic\n",
            "1 (8661, 8669) economic\n",
            "1 (13223, 13231) economic\n",
            "1 (13292, 13301) economies\n",
            "1 (13316, 13323) economy\n",
            "1 (13399, 13407) Economic\n",
            "1 (16027, 16034) economy\n",
            "1 (17525, 17533) economic\n",
            "1 (17665, 17672) economy\n",
            "1 (18247, 18255) economic\n",
            "1 (18676, 18684) economic\n",
            "1 (18831, 18839) economic\n",
            "1 (19622, 19631) economies\n",
            "1 (19915, 19922) economy\n",
            "1 (20293, 20301) economic\n",
            "1 (20719, 20726) economy\n",
            "1 (23378, 23386) economic\n",
            "1 (23881, 23888) economy\n",
            "1 (24748, 24756) economic\n",
            "1 (25222, 25229) economy\n",
            "1 (25419, 25426) economy\n",
            "1 (25981, 25989) economic\n",
            "1 (27899, 27907) economic\n",
            "2 (425, 434) Economist\n",
            "2 (605, 614) Economist\n",
            "2 (626, 635) Economist\n",
            "2 (751, 761) Economists\n",
            "2 (4411, 4419) economic\n",
            "2 (4577, 4585) economic\n",
            "2 (8632, 8640) economic\n",
            "2 (8694, 8703) economies\n",
            "2 (8771, 8779) economic\n",
            "2 (8863, 8870) economy\n",
            "2 (8889, 8896) economy\n",
            "2 (8964, 8973) economies\n",
            "2 (9082, 9090) Economic\n",
            "2 (14040, 14047) economy\n",
            "2 (14602, 14610) economic\n",
            "2 (15022, 15030) economic\n",
            "2 (15364, 15371) economy\n",
            "2 (15864, 15871) economy\n",
            "2 (15953, 15960) economy\n",
            "2 (16459, 16467) economic\n",
            "2 (16562, 16570) economic\n",
            "2 (17078, 17085) economy\n",
            "2 (19748, 19755) economy\n",
            "2 (19929, 19937) economic\n",
            "2 (19966, 19975) economies\n",
            "2 (21696, 21703) economy\n",
            "2 (22057, 22066) economies\n",
            "2 (23367, 23375) economic\n",
            "2 (24845, 24853) economic\n",
            "2 (25740, 25748) economic\n",
            "3 (483, 492) Economist\n",
            "3 (663, 672) Economist\n",
            "3 (687, 696) Economist\n",
            "3 (792, 802) Economists\n",
            "3 (1626, 1636) Economists\n",
            "3 (2431, 2440) economist\n",
            "3 (3362, 3370) economic\n",
            "3 (3518, 3526) economic\n",
            "3 (7518, 7526) economic\n",
            "3 (7588, 7596) Economic\n",
            "3 (7853, 7862) economies\n",
            "3 (10490, 10498) economic\n",
            "3 (12480, 12488) economic\n",
            "3 (12618, 12625) economy\n",
            "3 (13087, 13095) economic\n",
            "3 (13501, 13509) economic\n",
            "3 (13570, 13578) economic\n",
            "3 (13797, 13805) economic\n",
            "3 (14230, 14238) economic\n",
            "3 (14291, 14298) economy\n",
            "3 (16671, 16679) economic\n",
            "3 (17070, 17077) economy\n",
            "3 (18684, 18691) economy\n",
            "3 (20308, 20316) economic\n",
            "3 (21498, 21506) economic\n",
            "3 (21559, 21566) economy\n",
            "3 (22604, 22611) economy\n",
            "3 (23225, 23233) economic\n",
            "3 (24071, 24078) economy\n",
            "3 (24549, 24556) economy\n",
            "3 (26834, 26842) economic\n",
            "3 (28022, 28030) economic\n",
            "4 (456, 465) Economist\n",
            "4 (569, 578) Economist\n",
            "4 (593, 602) Economist\n",
            "4 (709, 719) Economists\n",
            "4 (1206, 1215) Economist\n",
            "4 (2442, 2450) economic\n",
            "4 (2594, 2602) economic\n",
            "4 (6991, 6999) economic\n",
            "4 (9848, 9856) economic\n",
            "4 (10563, 10571) economic\n",
            "4 (10961, 10969) economic\n",
            "4 (11939, 11947) economic\n",
            "4 (12125, 12132) economy\n",
            "4 (12724, 12732) economic\n",
            "4 (13161, 13169) economic\n",
            "4 (13540, 13548) economic\n",
            "4 (13865, 13872) economy\n",
            "4 (14416, 14424) economic\n",
            "4 (14808, 14815) economy\n",
            "4 (14882, 14889) economy\n",
            "4 (15586, 15593) economy\n",
            "4 (15993, 16000) economy\n",
            "4 (17555, 17562) economy\n",
            "4 (18720, 18728) economic\n",
            "4 (20869, 20878) economies\n",
            "4 (24720, 24727) economy\n",
            "4 (24770, 24778) economic\n",
            "4 (25194, 25201) economy\n",
            "4 (27057, 27065) economic\n",
            "pattern = (\\b)congress(\\b)|(\\b)deficit(\\b)|(\\b)federal reserve(\\b)|(\\b)legislation(\\b)|(\\b)regulation(\\b)|(\\b)white house(\\b)\n",
            "0 (104, 119) Federal Reserve\n",
            "0 (411, 426) Federal Reserve\n",
            "0 (1927, 1942) Federal Reserve\n",
            "0 (2470, 2485) Federal Reserve\n",
            "0 (2560, 2575) Federal Reserve\n",
            "0 (2650, 2665) Federal Reserve\n",
            "0 (2724, 2739) Federal Reserve\n",
            "0 (2804, 2819) Federal Reserve\n",
            "0 (2880, 2895) Federal Reserve\n",
            "0 (2957, 2972) Federal Reserve\n",
            "0 (3027, 3042) Federal Reserve\n",
            "0 (3110, 3125) Federal Reserve\n",
            "0 (3189, 3204) Federal Reserve\n",
            "0 (3574, 3589) Federal Reserve\n",
            "0 (4267, 4282) Federal Reserve\n",
            "0 (4669, 4684) Federal Reserve\n",
            "0 (4849, 4864) Federal Reserve\n",
            "0 (5147, 5162) Federal Reserve\n",
            "0 (5490, 5505) Federal Reserve\n",
            "0 (5981, 5996) Federal Reserve\n",
            "0 (7010, 7025) Federal Reserve\n",
            "0 (8250, 8265) Federal Reserve\n",
            "0 (8557, 8572) Federal Reserve\n",
            "0 (8753, 8768) Federal Reserve\n",
            "0 (8898, 8913) Federal Reserve\n",
            "0 (9117, 9132) Federal Reserve\n",
            "0 (9212, 9227) Federal Reserve\n",
            "0 (10225, 10240) Federal Reserve\n",
            "0 (11118, 11133) Federal Reserve\n",
            "0 (13116, 13131) Federal Reserve\n",
            "0 (13392, 13407) Federal Reserve\n",
            "0 (13438, 13448) Regulation\n",
            "0 (14553, 14568) Federal Reserve\n",
            "0 (14797, 14812) Federal Reserve\n",
            "0 (14913, 14923) Regulation\n",
            "0 (17330, 17345) Federal Reserve\n",
            "0 (17551, 17566) Federal Reserve\n",
            "0 (19211, 19226) Federal Reserve\n",
            "0 (19463, 19478) Federal Reserve\n",
            "0 (20452, 20467) Federal Reserve\n",
            "0 (28555, 28562) deficit\n",
            "0 (32462, 32477) Federal Reserve\n",
            "0 (36244, 36259) Federal Reserve\n",
            "0 (36283, 36291) Congress\n",
            "0 (36405, 36420) Federal Reserve\n",
            "0 (37330, 37345) Federal Reserve\n",
            "0 (40865, 40872) deficit\n",
            "0 (46970, 46978) Congress\n",
            "0 (47765, 47780) Federal Reserve\n",
            "0 (47808, 47823) Federal Reserve\n",
            "0 (51727, 51742) Federal Reserve\n",
            "0 (52907, 52922) Federal Reserve\n",
            "0 (53273, 53288) Federal Reserve\n",
            "0 (53541, 53556) Federal Reserve\n",
            "0 (53581, 53596) Federal Reserve\n",
            "1 (104, 119) Federal Reserve\n",
            "1 (360, 375) Federal Reserve\n",
            "1 (1464, 1479) Federal Reserve\n",
            "1 (1616, 1631) Federal Reserve\n",
            "1 (1687, 1702) Federal Reserve\n",
            "1 (1764, 1779) Federal Reserve\n",
            "1 (7750, 7765) Federal Reserve\n",
            "1 (12822, 12829) deficit\n",
            "1 (27170, 27185) Federal Reserve\n",
            "1 (28442, 28457) Federal Reserve\n",
            "2 (104, 119) Federal Reserve\n",
            "2 (339, 354) Federal Reserve\n",
            "2 (1403, 1418) Federal Reserve\n",
            "2 (1563, 1578) Federal Reserve\n",
            "2 (1728, 1743) Federal Reserve\n",
            "2 (2872, 2887) Federal Reserve\n",
            "2 (8267, 8274) deficit\n",
            "2 (23725, 23740) Federal Reserve\n",
            "2 (24998, 25013) Federal Reserve\n",
            "3 (104, 119) Federal Reserve\n",
            "3 (397, 412) Federal Reserve\n",
            "3 (1833, 1848) Federal Reserve\n",
            "3 (1976, 1991) Federal Reserve\n",
            "3 (2150, 2165) Federal Reserve\n",
            "3 (7237, 7244) deficit\n",
            "3 (7325, 7332) deficit\n",
            "3 (15318, 15326) Congress\n",
            "3 (15392, 15407) Federal Reserve\n",
            "3 (16579, 16594) Federal Reserve\n",
            "3 (26094, 26109) Federal Reserve\n",
            "3 (27726, 27741) Federal Reserve\n",
            "4 (104, 119) Federal Reserve\n",
            "4 (355, 370) Federal Reserve\n",
            "4 (1303, 1318) Federal Reserve\n",
            "4 (1442, 1457) Federal Reserve\n",
            "4 (1591, 1606) Federal Reserve\n",
            "4 (1663, 1678) Federal Reserve\n",
            "4 (6621, 6628) deficit\n",
            "4 (6702, 6709) deficit\n",
            "4 (21095, 21102) deficit\n",
            "4 (26316, 26331) Federal Reserve\n"
          ]
        }
      ],
      "source": [
        "# extract uncertainty words\n",
        "for pattern in [pattern1, pattern2, pattern3]:\n",
        "    print(f'pattern = {pattern}')\n",
        "    for i, doc in enumerate(docs):\n",
        "        finder = re.finditer(pattern, doc, re.IGNORECASE)\n",
        "        for m in finder: \n",
        "            print(i, m.span(),m.group()) # location (start,end) and matching string"
      ]
    },
    {
      "cell_type": "code",
      "execution_count": 20,
      "metadata": {
        "id": "Ok5zruWVoC3g"
      },
      "outputs": [],
      "source": [
        "def indicates_uncertainty(doc):\n",
        "    m1 = len(re.findall(pattern1, doc, re.IGNORECASE))\n",
        "    m2 = len(re.findall(pattern2, doc, re.IGNORECASE))\n",
        "    m3 = len(re.findall(pattern3, doc, re.IGNORECASE))\n",
        "    return m1 + m2 + m3"
      ]
    },
    {
      "cell_type": "code",
      "execution_count": 21,
      "metadata": {
        "id": "hVyTYcvUoC3g"
      },
      "outputs": [],
      "source": [
        "df['uncertainty'] = df['text'].apply(indicates_uncertainty)"
      ]
    },
    {
      "cell_type": "code",
      "execution_count": 22,
      "metadata": {
        "colab": {
          "base_uri": "https://localhost:8080/",
          "height": 297
        },
        "id": "JTOgZLmgoC3g",
        "outputId": "090948c3-1361-4c5c-879b-a386f23f08da"
      },
      "outputs": [
        {
          "data": {
            "text/plain": [
              "<matplotlib.axes._subplots.AxesSubplot at 0x7f8e32629b10>"
            ]
          },
          "execution_count": 22,
          "metadata": {},
          "output_type": "execute_result"
        },
        {
          "data": {
            "image/png": "[encoded data removed]",
            "text/plain": [
              "<Figure size 432x288 with 1 Axes>"
            ]
          },
          "metadata": {
            "needs_background": "light"
          },
          "output_type": "display_data"
        }
      ],
      "source": [
        "df.groupby('year')['uncertainty'].mean().plot()"
      ]
    },
    {
      "cell_type": "code",
      "execution_count": 22,
      "metadata": {
        "id": "kqdbET3WoC3g"
      },
      "outputs": [],
      "source": []
    }
  ],
  "metadata": {
    "colab": {
      "collapsed_sections": [],
      "include_colab_link": true,
      "name": "01-basic.ipynb",
      "provenance": []
    },
    "kernelspec": {
      "display_name": "Python 3",
      "name": "python3"
    },
    "language_info": {
      "codemirror_mode": {
        "name": "ipython",
        "version": 3
      },
      "file_extension": ".py",
      "mimetype": "text/x-python",
      "name": "python",
      "nbconvert_exporter": "python",
      "pygments_lexer": "ipython3",
      "version": "3.9.2"
    }
  },
  "nbformat": 4,
  "nbformat_minor": 0
}
