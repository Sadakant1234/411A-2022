{
  "cells": [
    {
      "cell_type": "markdown",
      "metadata": {
        "colab_type": "text",
        "id": "view-in-github"
      },
      "source": [
        "<a href=\"https://colab.research.google.com/github/chu-ise/411A-2022/blob/main/homework/HW01/homework_01.ipynb\" target=\"_parent\"><img src=\"https://colab.research.google.com/assets/colab-badge.svg\" alt=\"Open In Colab\"/></a>"
      ]
    },
    {
      "cell_type": "markdown",
      "metadata": {
        "id": "DjhDsneUPblF"
      },
      "source": [
        "# Homework #1\n",
        "\n",
        "> **Due date: Aptril 13, 2022**\n",
        "\n",
        "1. Download company 10-K filings from SEC EDGAR site\n",
        "2. Parse and extract either of the below two items\n",
        "    - Item 1A “Risk Factors”\n",
        "    - Item 7 “Management’s Discussion and Analysis of Financial Condition and Results of Operations”\n",
        "3. save as pandas dataframe file\n",
        "\n"
      ]
    },
    {
      "cell_type": "markdown",
      "metadata": {
        "id": "oBbKvPtgdCWu"
      },
      "source": [
        "### Output file format\n",
        "\n",
        "<style scoped>\n",
        "table {\n",
        "  font-size: 8px;\n",
        "}\n",
        "</style>\n",
        "\n",
        "\n",
        "| CIK     | Company                              | Type | Filing Date | Period of Report | SIC  | htm_file_link                                                                                 | filename                                  | item1a | item7 |\n",
        "|---------|--------------------------------------|------|-------------|------------------|------|-----------------------------------------------------------------------------------------------|-------------------------------------------|--------|-------|\n",
        "| 1000209 | MEDALLION FINANCIAL CORP             | 10-K | 2021/03/16  | 2020/12/31       | 6199 | https://www.sec.gov/Archives/edgar/data/1000209/000156459021013216/mfin-10k_20201231.htm      | 1000209_10K_2020_0001564590-21-013216.htm |        |       |\n",
        "| 1000228 | HENRY SCHEIN INC                     | 10-K | 2021/02/17  | 2020/12/26       | 5047 | https://www.sec.gov/Archives/edgar/data/1000228/000100022821000019/hsicform10k20201226.htm    | 1000228_10K_2020_0001000228-21-000019.htm |        |       |\n",
        "| 1000229 | CORE LABORATORIES N V                | 10-K | 2021/02/08  | 2020/12/31       | 1389 | https://www.sec.gov/Archives/edgar/data/1000229/000156459021004561/clb-10k_20201231.htm       | 1000229_10K_2020_0001564590-21-004561.htm |        |       |\n",
        "| 1000232 | KENTUCKY BANCSHARES INC /KY/         | 10-K | 2021/03/03  | 2020/12/31       | 6022 | https://www.sec.gov/Archives/edgar/data/1000232/000155837021002326/ktyb-20201231x10k.htm      | 1000232_10K_2020_0001558370-21-002326.htm |        |       |\n",
        "| 1000298 | IMPAC MORTGAGE HOLDINGS INC          | 10-K | 2021/03/12  | 2020/12/31       | 6798 | https://www.sec.gov/Archives/edgar/data/1000298/000155837021002945/imh-20201231x10k.htm       | 1000298_10K_2020_0001558370-21-002945.htm |        |       |\n",
        "| 1000623 | SCHWEITZER MAUDUIT INTERNATIONAL INC | 10-K | 2021/03/01  | 2020/12/31       | 2621 | https://www.sec.gov/Archives/edgar/data/1000623/000100062321000047/swm-20201231.htm           | 1000623_10K_2020_0001000623-21-000047.htm |        |       |\n",
        "| 1000683 | BLONDER TONGUE LABORATORIES INC      | 10-K | 2021/03/25  | 2020/12/31       | 3663 | https://www.sec.gov/Archives/edgar/data/1000683/000121390021017745/f10k2020_blondertongue.htm | 1000683_10K_2020_0001213900-21-017745.htm |        |       |\n",
        "| 1000694 | NOVAVAX INC                          | 10-K | 2021/03/01  | 2020/12/31       | 2836 | https://www.sec.gov/Archives/edgar/data/1000694/000100069421000004/nvax-20201231.htm          | 1000694_10K_2020_0001000694-21-000004.htm |        |       |\n",
        "| 1000697 | WATERS CORP /DE/                     | 10-K | 2021/02/24  | 2020/12/31       | 3826 | https://www.sec.gov/Archives/edgar/data/1000697/000119312521054385/d32803d10k.htm             | 1000697_10K_2020_0001193125-21-054385.htm |"
      ]
    },
    {
      "cell_type": "markdown",
      "metadata": {
        "id": "QW7FUxiGdCWv"
      },
      "source": [
        "### SEC Archive site:\n",
        "https://www.sec.gov/Archives/edgar/full-index/"
      ]
    },
    {
      "cell_type": "markdown",
      "metadata": {
        "id": "my4tXncGdCWw"
      },
      "source": [
        "### How to Read a 10-K/10-Q\n",
        "https://www.sec.gov/fast-answers/answersreada10khtm.html\n"
      ]
    },
    {
      "cell_type": "code",
      "execution_count": 1,
      "metadata": {
        "colab": {
          "base_uri": "https://localhost:8080/"
        },
        "id": "GDY8BtSle0Go",
        "outputId": "b12356ad-1107-4270-e170-e17bc0ccd242"
      },
      "outputs": [
        {
          "name": "stdout",
          "output_type": "stream",
          "text": [
            "WORKSPACE_DIR = ./workspace\n"
          ]
        }
      ],
      "source": [
        "import os\n",
        "WORKSPACE_DIR = \"./workspace\" \n",
        "print(f'WORKSPACE_DIR = {WORKSPACE_DIR}')\n",
        "data_dir = os.path.join(WORKSPACE_DIR, \"data\")\n",
        "os.makedirs(data_dir, exist_ok=True)"
      ]
    },
    {
      "cell_type": "code",
      "execution_count": 2,
      "metadata": {
        "id": "p3fbbCqEdCWy"
      },
      "outputs": [],
      "source": [
        "%%capture\n",
        "%pip install ekorpkit[edgar]==0.1.12.post0.dev16\n"
      ]
    },
    {
      "cell_type": "code",
      "execution_count": 7,
      "metadata": {
        "colab": {
          "base_uri": "https://localhost:8080/"
        },
        "id": "aEHBKBLddCWy",
        "outputId": "00b47769-378c-4774-c584-2ce759aed6ac"
      },
      "outputs": [
        {
          "name": "stdout",
          "output_type": "stream",
          "text": [
            "{'output_dir': './workspace/data', 'base_url': 'https://www.sec.gov/Archives/edgar/full-index/', 'start_year': 2021, 'end_year': 2021, 'quarters': [4], 'filing_types': ['10-K'], 'cik_tickers': [], 'user_agent': 'Your name', 'raw_filings_dir': 'RAW_FILINGS', 'indices_dir': 'INDICES', 'filings_metadata_file': 'FILINGS_METADATA.csv', 'companies_info_file': 'companies_info.json', 'skip_present_indices': True}\n"
          ]
        }
      ],
      "source": [
        "download_config = {\n",
        "    \"output_dir\": data_dir,\n",
        "    \"base_url\": \"https://www.sec.gov/Archives/edgar/full-index/\",\n",
        "    \"start_year\": 2021,\n",
        "    \"end_year\": 2021,\n",
        "    \"quarters\": [4],\n",
        "    \"filing_types\": [\"10-K\"],\n",
        "    \"cik_tickers\": [],\n",
        "    \"user_agent\": \"Your name\",\n",
        "    \"raw_filings_dir\": \"RAW_FILINGS\",\n",
        "    \"indices_dir\": \"INDICES\",\n",
        "    \"filings_metadata_file\": \"FILINGS_METADATA.csv\",\n",
        "    \"companies_info_file\": \"companies_info.json\",\n",
        "    \"skip_present_indices\": True\n",
        "}\n",
        "print(download_config)"
      ]
    },
    {
      "cell_type": "markdown",
      "metadata": {
        "id": "BdnTDvCtPblL"
      },
      "source": [
        "### Download Company 10-K filings from SEC EDGAR"
      ]
    },
    {
      "cell_type": "code",
      "execution_count": 8,
      "metadata": {
        "id": "2LunQH0P60Mp"
      },
      "outputs": [],
      "source": [
        "from ekorpkit.io.fetch.edgar.download import download_filings"
      ]
    },
    {
      "cell_type": "code",
      "execution_count": 10,
      "metadata": {
        "id": "baTURICZdCWz"
      },
      "outputs": [],
      "source": [
        "# download_filings(**download_config)"
      ]
    },
    {
      "cell_type": "markdown",
      "metadata": {
        "id": "2hwM6L-ndCWz"
      },
      "source": [
        "## Extract items from 10-K filings"
      ]
    },
    {
      "cell_type": "code",
      "execution_count": null,
      "metadata": {
        "id": "TVrQc-XZdCW1"
      },
      "outputs": [],
      "source": []
    }
  ],
  "metadata": {
    "colab": {
      "collapsed_sections": [],
      "include_colab_link": true,
      "name": "01-basic.ipynb",
      "provenance": []
    },
    "kernelspec": {
      "display_name": "Python 3",
      "name": "python3"
    },
    "language_info": {
      "codemirror_mode": {
        "name": "ipython",
        "version": 3
      },
      "file_extension": ".py",
      "mimetype": "text/x-python",
      "name": "python",
      "nbconvert_exporter": "python",
      "pygments_lexer": "ipython3",
      "version": "3.8.12"
    }
  },
  "nbformat": 4,
  "nbformat_minor": 0
}
